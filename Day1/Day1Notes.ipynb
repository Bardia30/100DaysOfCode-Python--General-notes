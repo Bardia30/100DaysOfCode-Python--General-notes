{
 "cells": [
  {
   "cell_type": "code",
   "execution_count": null,
   "metadata": {},
   "outputs": [],
   "source": [
    "print(\"nice nice\")"
   ]
  },
  {
   "cell_type": "code",
   "execution_count": null,
   "metadata": {},
   "outputs": [],
   "source": [
    "print(\"Day 1 - Python Print Function \\nThe function is declared like this: \\nprint('what to print')\")"
   ]
  },
  {
   "attachments": {},
   "cell_type": "markdown",
   "metadata": {},
   "source": [
    "string concatenation"
   ]
  },
  {
   "cell_type": "code",
   "execution_count": null,
   "metadata": {},
   "outputs": [],
   "source": [
    "print(\"Bardia\"+\" \"+\"Dehbasti\")"
   ]
  },
  {
   "attachments": {},
   "cell_type": "markdown",
   "metadata": {},
   "source": [
    "Note: Python is sensitive to indentation --> gives indentation error if unnecessary indentation is there\n",
    "\n",
    "Excercise2: fix the error below:"
   ]
  },
  {
   "cell_type": "code",
   "execution_count": null,
   "metadata": {},
   "outputs": [],
   "source": [
    "print(Day 1 - String Manipulation\")\n",
    "print(\"String Concatenation is done with the \"+\" sign.\")\n",
    "  print('e.g. print(\"Hello \" + \"world\")')\n",
    "print((\"New lines can be created with a backslash and n.\")"
   ]
  },
  {
   "cell_type": "code",
   "execution_count": null,
   "metadata": {},
   "outputs": [],
   "source": [
    "print(\"Day 1 - String Manipulation\")\n",
    "print(\"String Concatenation is done with the \" + '\"+\"'+ \" sign.\")\n",
    "print('e.g. print(\"Hello \" + \"world\")')\n",
    "print(\"New lines can be created with a backslash and n.\")"
   ]
  },
  {
   "cell_type": "code",
   "execution_count": null,
   "metadata": {},
   "outputs": [],
   "source": [
    "#input function\n",
    "print(\"Hello \" + input (\"what is your name? \"))"
   ]
  },
  {
   "cell_type": "code",
   "execution_count": 23,
   "metadata": {},
   "outputs": [
    {
     "name": "stdout",
     "output_type": "stream",
     "text": [
      "4\n",
      "user is 34 years old, and their name has 2 digits\n"
     ]
    }
   ],
   "source": [
    "# Exercise 1.3 \n",
    "print(len(input(\"What is your name? : \")))\n",
    "user_input = input(\"What is your age?: \")\n",
    "user_age_length = str(len(user_input))\n",
    "print(\"user is \" + user_input + \" years old, and their name has \"+ user_age_length + \" digits\")"
   ]
  },
  {
   "cell_type": "code",
   "execution_count": 27,
   "metadata": {},
   "outputs": [
    {
     "name": "stdout",
     "output_type": "stream",
     "text": [
      "a: this is b\n",
      "b: this is a\n"
     ]
    }
   ],
   "source": [
    "#Exercise 1.4\n",
    "#INSTRUCTIONS: Write a program that switches the values stored in the variables a and b.\n",
    "#Example Input: \n",
    "# a: 3\n",
    "# b: 5\n",
    "\n",
    "#Example output\n",
    "# a: 5\n",
    "# b: 3\n",
    "\n",
    "# 🚨 Don't change the code below 👇\n",
    "a = input(\"a: \")\n",
    "b = input(\"b: \")\n",
    "# 🚨 Don't change the code above 👆\n",
    "\n",
    "####################################\n",
    "#Write your code below this line 👇\n",
    "c = a\n",
    "a = b \n",
    "b = c\n",
    "\n",
    "\n",
    "\n",
    "\n",
    "#Write your code above this line 👆\n",
    "####################################\n",
    "\n",
    "# 🚨 Don't change the code below 👇\n",
    "print(\"a: \" + a)\n",
    "print(\"b: \" + b)\n",
    "\n"
   ]
  },
  {
   "cell_type": "code",
   "execution_count": 28,
   "metadata": {},
   "outputs": [
    {
     "name": "stdout",
     "output_type": "stream",
     "text": [
      "Hellow there, dear user!\n",
      "your band name is: Tehran Bentley\n"
     ]
    }
   ],
   "source": [
    "#  Project Day One \n",
    "#1. Create a greeting for your program.\n",
    "print(\"Hellow there, dear user!\")\n",
    "\n",
    "#2. Ask the user for the city that they grew up in.\n",
    "user_city = input(\"which city did you grew up in?Please enter: \\n\")\n",
    "#3. Ask the user for the name of a pet.\n",
    "user_pet = input(\"What is the name of yout pet?: \\n\")\n",
    "#4. Combine the name of their city and pet and show them their band name.\n",
    "print(\"your band name is: \" + user_city + \" \" +  user_pet)\n",
    "#5. Make sure the input cursor shows on a new line:"
   ]
  }
 ],
 "metadata": {
  "kernelspec": {
   "display_name": "base",
   "language": "python",
   "name": "python3"
  },
  "language_info": {
   "codemirror_mode": {
    "name": "ipython",
    "version": 3
   },
   "file_extension": ".py",
   "mimetype": "text/x-python",
   "name": "python",
   "nbconvert_exporter": "python",
   "pygments_lexer": "ipython3",
   "version": "3.9.13"
  },
  "orig_nbformat": 4,
  "vscode": {
   "interpreter": {
    "hash": "ad2bdc8ecc057115af97d19610ffacc2b4e99fae6737bb82f5d7fb13d2f2c186"
   }
  }
 },
 "nbformat": 4,
 "nbformat_minor": 2
}
